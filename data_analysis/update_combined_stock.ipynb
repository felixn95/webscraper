{
 "cells": [
  {
   "metadata": {},
   "cell_type": "markdown",
   "source": "",
   "id": "8c4bb82f76cb2d47"
  },
  {
   "metadata": {
    "ExecuteTime": {
     "end_time": "2024-06-27T08:44:55.063189Z",
     "start_time": "2024-06-27T08:44:54.041902Z"
    }
   },
   "cell_type": "code",
   "source": [
    "# read current combined data\n",
    "import pandas as pd\n",
    "df = pd.read_csv('combined_stock_data.csv')\n",
    "# print length of data\n",
    "print(len(df))"
   ],
   "id": "26e6aa0b2c49d6ca",
   "outputs": [
    {
     "name": "stdout",
     "output_type": "stream",
     "text": [
      "170679\n"
     ]
    }
   ],
   "execution_count": 1
  },
  {
   "metadata": {
    "ExecuteTime": {
     "end_time": "2024-06-27T08:45:15.540525Z",
     "start_time": "2024-06-27T08:45:00.216754Z"
    }
   },
   "cell_type": "code",
   "source": [
    "from StockDataCombiner import StockDataCombiner\n",
    "\n",
    "combiner = StockDataCombiner('../decathlon_scraper/data/sportgear/stocks')\n",
    "combined_df = combiner.combine_csv_files()\n",
    "#print(combined_df.head())  # Display the first few rows of the combined DataFrame\n",
    "combiner.save_combined_data('combined_stock_data.csv')"
   ],
   "id": "daecdcdf02690275",
   "outputs": [
    {
     "name": "stdout",
     "output_type": "stream",
     "text": [
      "Data combined successfully\n",
      "Data combined successfully\n",
      "Combined data saved to combined_stock_data.csv\n"
     ]
    }
   ],
   "execution_count": 2
  },
  {
   "metadata": {
    "ExecuteTime": {
     "end_time": "2024-06-27T08:45:20.146185Z",
     "start_time": "2024-06-27T08:45:19.398352Z"
    }
   },
   "cell_type": "code",
   "source": [
    "# read new combined data\n",
    "new_combined_df = pd.read_csv('combined_stock_data.csv')\n",
    "print (len(new_combined_df))"
   ],
   "id": "8b03ce17b26addba",
   "outputs": [
    {
     "name": "stdout",
     "output_type": "stream",
     "text": [
      "179335\n"
     ]
    }
   ],
   "execution_count": 3
  },
  {
   "metadata": {
    "ExecuteTime": {
     "end_time": "2024-06-27T08:45:29.435519Z",
     "start_time": "2024-06-27T08:45:29.426739Z"
    }
   },
   "cell_type": "code",
   "source": [
    "# show all columns\n",
    "print(new_combined_df.columns)"
   ],
   "id": "e9110fcd1c979480",
   "outputs": [
    {
     "name": "stdout",
     "output_type": "stream",
     "text": [
      "Index(['id', 'main_category', 'sub_category', 'product_name', 'brand', 'price',\n",
      "       'url', 'timestamp', 'store_aboveThreshold', 'store_address',\n",
      "       'store_availabilityInfo', 'store_clickNcollect1h',\n",
      "       'store_favoriteStore', 'store_latitude', 'store_longitude',\n",
      "       'store_optionId', 'store_originId', 'store_phoneNumber',\n",
      "       'store_priceId', 'store_quantity', 'store_quantityShowroom',\n",
      "       'store_replenishmentEndDate', 'store_replenishmentStartDate',\n",
      "       'store_securedStockLevel', 'store_skuId', 'store_storeId',\n",
      "       'store_storeName', 'store_storeSchedule', 'store_storeUrl'],\n",
      "      dtype='object')\n"
     ]
    }
   ],
   "execution_count": 4
  },
  {
   "metadata": {
    "ExecuteTime": {
     "end_time": "2024-06-27T08:45:36.365092Z",
     "start_time": "2024-06-27T08:45:36.331418Z"
    }
   },
   "cell_type": "code",
   "source": [
    "# Calculate the number of unique combinations of 'id' and 'store_skuId'\n",
    "unique_product_variants = new_combined_df[['id', 'store_skuId']].drop_duplicates().shape[0]\n",
    "print(\"Number of unique product variant IDs:\", unique_product_variants)\n"
   ],
   "id": "2a8fa3763ffe181f",
   "outputs": [
    {
     "name": "stdout",
     "output_type": "stream",
     "text": [
      "Number of unique product variant IDs: 639\n"
     ]
    }
   ],
   "execution_count": 5
  },
  {
   "metadata": {},
   "cell_type": "code",
   "outputs": [],
   "execution_count": null,
   "source": "",
   "id": "846a30b5f1168898"
  }
 ],
 "metadata": {
  "kernelspec": {
   "display_name": "Python 3",
   "language": "python",
   "name": "python3"
  },
  "language_info": {
   "codemirror_mode": {
    "name": "ipython",
    "version": 2
   },
   "file_extension": ".py",
   "mimetype": "text/x-python",
   "name": "python",
   "nbconvert_exporter": "python",
   "pygments_lexer": "ipython2",
   "version": "2.7.6"
  }
 },
 "nbformat": 4,
 "nbformat_minor": 5
}
