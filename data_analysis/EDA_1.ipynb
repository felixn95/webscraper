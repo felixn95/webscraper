{
 "cells": [
  {
   "metadata": {
    "ExecuteTime": {
     "end_time": "2024-05-14T12:56:29.961666Z",
     "start_time": "2024-05-14T12:56:28.888386Z"
    }
   },
   "cell_type": "code",
   "source": [
    "from data_analysis.StockDataCombiner import StockDataCombiner\n",
    "\n",
    "#combiner = StockDataCombiner('../decathlon_scraper/data/sportgear/stocks')\n",
    "#combined_df = combiner.combine_csv_files()\n",
    "#combiner.save_combined_data('combined_stock_data.csv')"
   ],
   "id": "55251ee4ad92a9f",
   "execution_count": 1,
   "outputs": []
  },
  {
   "metadata": {
    "ExecuteTime": {
     "end_time": "2024-05-14T12:56:30.359325Z",
     "start_time": "2024-05-14T12:56:29.967683Z"
    }
   },
   "cell_type": "code",
   "source": [
    "# read in combine stock data\n",
    "import pandas as pd\n",
    "df = pd.read_csv('combined_stock_data.csv')"
   ],
   "id": "8645593d521f0a6c",
   "execution_count": 2,
   "outputs": []
  },
  {
   "metadata": {
    "ExecuteTime": {
     "end_time": "2024-05-14T12:56:30.390603Z",
     "start_time": "2024-05-14T12:56:30.359325Z"
    }
   },
   "cell_type": "code",
   "source": [
    "# list columns\n",
    "print(df.columns)"
   ],
   "id": "98f2c79478a9dd88",
   "execution_count": 3,
   "outputs": []
  },
  {
   "metadata": {
    "ExecuteTime": {
     "end_time": "2024-05-14T12:56:30.438Z",
     "start_time": "2024-05-14T12:56:30.396152Z"
    }
   },
   "cell_type": "code",
   "source": [
    "# for first insight, only relevant considered features are selected\n",
    "df = df[['id', 'timestamp', 'main_category', 'sub_category', 'product_name', 'brand', 'price', 'store_skuId','store_storeId',\n",
    "       'store_storeName', 'store_quantity', 'store_availabilityInfo','store_clickNcollect1h']]\n",
    "\n",
    "# save reduced version as csv\n",
    "#df.to_csv('reduced_features_stock_data.csv', index=False)"
   ],
   "id": "a020e67177a771ed",
   "execution_count": 4,
   "outputs": []
  },
  {
   "metadata": {
    "ExecuteTime": {
     "end_time": "2024-05-14T12:56:30.495752Z",
     "start_time": "2024-05-14T12:56:30.454659Z"
    }
   },
   "cell_type": "code",
   "source": [
    "# print df types\n",
    "print(df.dtypes)"
   ],
   "id": "c29dfd8e4f845287",
   "execution_count": 5,
   "outputs": []
  },
  {
   "metadata": {
    "ExecuteTime": {
     "end_time": "2024-05-14T12:56:30.526780Z",
     "start_time": "2024-05-14T12:56:30.499565Z"
    }
   },
   "cell_type": "code",
   "source": [
    "# set store_storeId as category\n",
    "df['store_storeId'] = df['store_storeId'].astype('object')"
   ],
   "id": "ee9657833bb65d6a",
   "execution_count": 6,
   "outputs": []
  },
  {
   "metadata": {
    "ExecuteTime": {
     "end_time": "2024-05-14T12:56:30.653998Z",
     "start_time": "2024-05-14T12:56:30.530368Z"
    }
   },
   "cell_type": "code",
   "source": [
    "# Frequency distribution for categorical fields\n",
    "for col in df.select_dtypes(include='object').columns:\n",
    "    print(df[col].value_counts())"
   ],
   "id": "1501a3cb290482fd",
   "execution_count": 7,
   "outputs": []
  },
  {
   "metadata": {
    "ExecuteTime": {
     "end_time": "2024-05-14T12:56:30.739888Z",
     "start_time": "2024-05-14T12:56:30.659418Z"
    }
   },
   "cell_type": "code",
   "source": [
    "# print head\n",
    "print(df.head(2))"
   ],
   "id": "96c2f9a64df17128",
   "execution_count": 8,
   "outputs": []
  },
  {
   "metadata": {},
   "cell_type": "markdown",
   "source": "# Analysis of Stock Changes in an Area",
   "id": "5e2dc93ee5f7bdac"
  },
  {
   "metadata": {
    "ExecuteTime": {
     "end_time": "2024-05-14T12:56:52.660910Z",
     "start_time": "2024-05-14T12:56:52.614370Z"
    }
   },
   "cell_type": "code",
   "source": [
    "# Ensure the store_storeId column is of string type and strip any whitespace\n",
    "df['store_storeId'] = df['store_storeId'].astype(str).str.strip()\n",
    "\n",
    "# Pad the store_storeId values with leading zeros to ensure 13 characters\n",
    "df['store_storeId'] = df['store_storeId'].str.zfill(13)\n",
    "\n",
    "# Filter for a specific area\n",
    "import decathlon_scraper.StoresEnum as StoresEnum\n",
    "nrw_area = StoresEnum.StoresNRW\n",
    "\n",
    "# Create a list with the enum values, ensuring no leading/trailing whitespace\n",
    "nrw_stores = [str(store.value).strip() for store in nrw_area]\n",
    "\n",
    "# Filter for the stores in the area\n",
    "nrw_df = df[df['store_storeId'].isin(nrw_stores)]\n",
    "\n",
    "# Group by 'id' and 'store_skuId' and count the occurrences\n",
    "product_counts = nrw_df.groupby(['id', 'store_skuId']).size().reset_index(name='count')\n",
    "\n",
    "# Print the results\n",
    "print(product_counts)\n",
    "\n",
    "# If you want to filter and find products that are available in more than one store\n",
    "same_products_across_stores = product_counts[product_counts['count'] > 1]\n",
    "\n",
    "# Print the products that are available in more than one store\n",
    "print(same_products_across_stores)\n"
   ],
   "id": "8bf4615350362b73",
   "execution_count": 10,
   "outputs": []
  },
  {
   "metadata": {
    "ExecuteTime": {
     "end_time": "2024-05-14T13:05:22.367995Z",
     "start_time": "2024-05-14T13:05:22.036630Z"
    }
   },
   "cell_type": "code",
   "source": [
    "import matplotlib.pyplot as plt\n",
    "import seaborn as sns\n",
    "\n",
    "# Merge the same_products_across_stores DataFrame with the original nrw_df to get the main_category\n",
    "merged_df = same_products_across_stores.merge(nrw_df, on=['id', 'store_skuId'])\n",
    "\n",
    "# Drop duplicates to ensure each product is counted only once per main category\n",
    "unique_products = merged_df.drop_duplicates(subset=['id', 'store_skuId', 'main_category'])\n",
    "\n",
    "# Group by main_category and count the unique products\n",
    "category_counts = unique_products['main_category'].value_counts().reset_index()\n",
    "category_counts.columns = ['main_category', 'product_count']\n",
    "\n",
    "# Plot the results\n",
    "plt.figure(figsize=(12, 6))\n",
    "sns.barplot(data=category_counts, x='main_category', y='product_count', palette='viridis')\n",
    "plt.xlabel('Main Category')\n",
    "plt.ylabel('Number of Unique Products')\n",
    "plt.title('Number of Unique Products by Main Category in NRW Stores')\n",
    "plt.xticks(rotation=45)\n",
    "plt.show()\n"
   ],
   "id": "86d441fb8a50c276",
   "execution_count": 13,
   "outputs": []
  },
  {
   "metadata": {
    "ExecuteTime": {
     "end_time": "2024-05-14T13:14:24.446804Z",
     "start_time": "2024-05-14T13:14:23.636657Z"
    }
   },
   "cell_type": "code",
   "source": [
    "\n",
    "# Ensure the store_storeId column is of string type and strip any whitespace\n",
    "df['store_storeId'] = df['store_storeId'].astype(str).str.strip()\n",
    "\n",
    "# Pad the store_storeId values with leading zeros to ensure 13 characters\n",
    "df['store_storeId'] = df['store_storeId'].str.zfill(13)\n",
    "\n",
    "# Filter for a specific area\n",
    "import decathlon_scraper.StoresEnum as StoresEnum\n",
    "nrw_area = StoresEnum.StoresNRW\n",
    "\n",
    "# Create a list with the enum values, ensuring no leading/trailing whitespace\n",
    "nrw_stores = [str(store.value).strip() for store in nrw_area]\n",
    "\n",
    "# Filter for the stores in the area\n",
    "nrw_df = df[df['store_storeId'].isin(nrw_stores)]\n",
    "\n",
    "# Group by 'id' and 'store_skuId' and count the occurrences\n",
    "product_counts = nrw_df.groupby(['id', 'store_skuId']).size().reset_index(name='count')\n",
    "\n",
    "# Filter for the same products across stores\n",
    "same_products_across_stores = product_counts[product_counts['count'] > 1]\n",
    "\n",
    "# Merge with the original nrw_df to get the main_category and timestamp\n",
    "merged_df = same_products_across_stores.merge(nrw_df, on=['id', 'store_skuId'])\n",
    "\n",
    "# Drop duplicates to ensure each product is counted only once per main category\n",
    "unique_products = merged_df.drop_duplicates(subset=['id', 'store_skuId', 'main_category'])\n",
    "\n",
    "# Aggregate stock quantity per category and timestamp\n",
    "aggregated_data = nrw_df.groupby(['timestamp', 'main_category'])['store_quantity'].sum().reset_index()\n",
    "\n",
    "# Convert timestamp to datetime\n",
    "aggregated_data['timestamp'] = pd.to_datetime(aggregated_data['timestamp'])\n",
    "\n",
    "# Create a pivot table for plotting\n",
    "pivot_data = aggregated_data.pivot(index='timestamp', columns='main_category', values='store_quantity')\n",
    "\n",
    "# Plot the results\n",
    "plt.figure(figsize=(14, 8))\n",
    "pivot_data.plot(kind='line', marker='o', figsize=(14, 8))\n",
    "plt.xlabel('Timestamp')\n",
    "plt.ylabel('Total Stock Quantity')\n",
    "plt.title('Changes in Stock Quantity by Main Category Over Time')\n",
    "plt.legend(title='Main Category', bbox_to_anchor=(1.05, 1), loc='upper left')\n",
    "plt.grid(True)\n",
    "plt.tight_layout()\n",
    "plt.show()\n"
   ],
   "id": "fff878842daf227a",
   "execution_count": 14,
   "outputs": []
  },
  {
   "metadata": {
    "ExecuteTime": {
     "end_time": "2024-05-14T13:17:26.085577Z",
     "start_time": "2024-05-14T13:17:25.384369Z"
    }
   },
   "cell_type": "code",
   "source": [
    "import matplotlib.pyplot as plt\n",
    "import seaborn as sns\n",
    "import pandas as pd\n",
    "\n",
    "# Ensure the store_storeId column is of string type and strip any whitespace\n",
    "df['store_storeId'] = df['store_storeId'].astype(str).str.strip()\n",
    "\n",
    "# Pad the store_storeId values with leading zeros to ensure 13 characters\n",
    "df['store_storeId'] = df['store_storeId'].str.zfill(13)\n",
    "\n",
    "# Filter for a specific area\n",
    "import decathlon_scraper.StoresEnum as StoresEnum\n",
    "nrw_area = StoresEnum.StoresNRW\n",
    "\n",
    "# Create a list with the enum values, ensuring no leading/trailing whitespace\n",
    "nrw_stores = [str(store.value).strip() for store in nrw_area]\n",
    "\n",
    "# Filter for the stores in the area\n",
    "nrw_df = df[df['store_storeId'].isin(nrw_stores)]\n",
    "\n",
    "# Convert timestamp to datetime\n",
    "nrw_df['timestamp'] = pd.to_datetime(nrw_df['timestamp'])\n",
    "\n",
    "# Sort the DataFrame by id, store_skuId, store_storeId, and timestamp\n",
    "nrw_df = nrw_df.sort_values(by=['id', 'store_skuId', 'store_storeId', 'timestamp'])\n",
    "\n",
    "# Identify products that went out of stock\n",
    "nrw_df['previous_quantity'] = nrw_df.groupby(['id', 'store_skuId', 'store_storeId'])['store_quantity'].shift(1)\n",
    "out_of_stock = nrw_df[(nrw_df['store_quantity'] == 0) & (nrw_df['previous_quantity'] > 0)]\n",
    "\n",
    "# Aggregate the number of out-of-stock products by timestamp\n",
    "out_of_stock_counts = out_of_stock.groupby('timestamp').size().reset_index(name='out_of_stock_count')\n",
    "\n",
    "# Plot the results\n",
    "plt.figure(figsize=(14, 8))\n",
    "sns.lineplot(data=out_of_stock_counts, x='timestamp', y='out_of_stock_count', marker='o')\n",
    "plt.xlabel('Timestamp')\n",
    "plt.ylabel('Number of Products Out of Stock')\n",
    "plt.title('Number of Unique Products Going Out of Stock Over Time')\n",
    "plt.grid(True)\n",
    "plt.tight_layout()\n",
    "plt.show()\n"
   ],
   "id": "252b07a7e56d9d25",
   "execution_count": 15,
   "outputs": []
  },
  {
   "metadata": {
    "ExecuteTime": {
     "end_time": "2024-05-14T13:19:59.903685Z",
     "start_time": "2024-05-14T13:19:23.340596Z"
    }
   },
   "cell_type": "code",
   "source": [
    "import matplotlib.pyplot as plt\n",
    "import seaborn as sns\n",
    "import pandas as pd\n",
    "\n",
    "# Ensure the store_storeId column is of string type and strip any whitespace\n",
    "df['store_storeId'] = df['store_storeId'].astype(str).str.strip()\n",
    "\n",
    "# Pad the store_storeId values with leading zeros to ensure 13 characters\n",
    "df['store_storeId'] = df['store_storeId'].str.zfill(13)\n",
    "\n",
    "# Filter for a specific area\n",
    "import decathlon_scraper.StoresEnum as StoresEnum\n",
    "nrw_area = StoresEnum.StoresNRW\n",
    "\n",
    "# Create a list with the enum values, ensuring no leading/trailing whitespace\n",
    "nrw_stores = [str(store.value).strip() for store in nrw_area]\n",
    "\n",
    "# Filter for the stores in the area\n",
    "nrw_df = df[df['store_storeId'].isin(nrw_stores)]\n",
    "\n",
    "# Convert timestamp to datetime\n",
    "nrw_df['timestamp'] = pd.to_datetime(nrw_df['timestamp'])\n",
    "\n",
    "# Sort the DataFrame by id, store_skuId, store_storeId, and timestamp\n",
    "nrw_df = nrw_df.sort_values(by=['id', 'store_skuId', 'store_storeId', 'timestamp'])\n",
    "\n",
    "# Identify products that went out of stock\n",
    "nrw_df['previous_quantity'] = nrw_df.groupby(['id', 'store_skuId', 'store_storeId'])['store_quantity'].shift(1)\n",
    "out_of_stock = nrw_df[(nrw_df['store_quantity'] == 0) & (nrw_df['previous_quantity'] > 0)]\n",
    "\n",
    "# Get the unique id and store_skuId combinations that went out of stock\n",
    "out_of_stock_products = out_of_stock[['id', 'store_skuId']].drop_duplicates()\n",
    "\n",
    "# Merge this back with the original nrw_df to get the full stock history of these products\n",
    "stock_history = nrw_df.merge(out_of_stock_products, on=['id', 'store_skuId'])\n",
    "\n",
    "# Plot the stock quantity changes over time for these products\n",
    "plt.figure(figsize=(14, 8))\n",
    "for (product_id, sku_id), group in stock_history.groupby(['id', 'store_skuId']):\n",
    "    sns.lineplot(data=group, x='timestamp', y='store_quantity', hue='store_storeId', marker='o')\n",
    "    plt.title(f'Stock Quantity Changes Over Time for Product ID: {product_id}, SKU: {sku_id}')\n",
    "    plt.xlabel('Timestamp')\n",
    "    plt.ylabel('Stock Quantity')\n",
    "    plt.legend(title='Store ID', bbox_to_anchor=(1.05, 1), loc='upper left')\n",
    "    plt.grid(True)\n",
    "    plt.tight_layout()\n",
    "    plt.show()\n"
   ],
   "id": "c85af9b61a124613",
   "execution_count": 16,
   "outputs": []
  },
  {
   "metadata": {},
   "cell_type": "code",
   "execution_count": null,
   "source": "",
   "id": "6616a9b76bc7d32b",
   "outputs": []
  }
 ],
 "metadata": {
  "kernelspec": {
   "display_name": "Python 3",
   "language": "python",
   "name": "python3"
  },
  "language_info": {
   "codemirror_mode": {
    "name": "ipython",
    "version": 2
   },
   "file_extension": ".py",
   "mimetype": "text/x-python",
   "name": "python",
   "nbconvert_exporter": "python",
   "pygments_lexer": "ipython2",
   "version": "2.7.6"
  }
 },
 "nbformat": 4,
 "nbformat_minor": 5
}
