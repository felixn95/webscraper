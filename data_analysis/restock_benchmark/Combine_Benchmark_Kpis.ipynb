{
 "cells": [
  {
   "cell_type": "code",
   "id": "initial_id",
   "metadata": {
    "collapsed": true,
    "ExecuteTime": {
     "end_time": "2024-06-28T16:47:06.726095Z",
     "start_time": "2024-06-28T16:47:06.278765Z"
    }
   },
   "source": [
    "import pandas as pd\n",
    "# Load DataFrames\n",
    "df_avg_stock_quantity = pd.read_csv('data/avg_stock_quantity.csv')\n",
    "df_restock_info = pd.read_csv('data/restock_info.csv')\n",
    "#df_reorder_info = pd.read_csv('data/reorder_info.csv')"
   ],
   "outputs": [],
   "execution_count": 1
  },
  {
   "metadata": {
    "ExecuteTime": {
     "end_time": "2024-06-28T16:47:06.742133Z",
     "start_time": "2024-06-28T16:47:06.729098Z"
    }
   },
   "cell_type": "code",
   "source": [
    "import pandas as pd\n",
    "\n",
    "# Merge DataFrames on store_storeId, sub_category, and price_range\n",
    "df_combined = pd.merge(df_avg_stock_quantity, df_restock_info, on=['store_storeId', 'sub_category', 'price_range'], how='outer')\n",
    "\n",
    "# Display the combined DataFrame\n",
    "print(df_combined)\n"
   ],
   "id": "2467757db6968b99",
   "outputs": [
    {
     "name": "stdout",
     "output_type": "stream",
     "text": [
      "     store_storeId  sub_category price_range  avg_stock_quantity  \\\n",
      "0    0070008500085  campingmobel        0-10           14.576577   \n",
      "1    0070008500085  campingmobel       10-20           38.096154   \n",
      "2    0070008500085  campingmobel     100-200            2.864865   \n",
      "3    0070008500085  campingmobel       1000+                 NaN   \n",
      "4    0070008500085  campingmobel       20-50           19.478599   \n",
      "..             ...           ...         ...                 ...   \n",
      "619     All Stores         zelte       1000+            0.286245   \n",
      "620     All Stores         zelte       20-50           19.348370   \n",
      "621     All Stores         zelte     200-500            3.340947   \n",
      "622     All Stores         zelte      50-100            7.782873   \n",
      "623     All Stores         zelte    500-1000            2.349282   \n",
      "\n",
      "     observed_variants_count  avg_count_per_variant  avg_restock_amount  \\\n",
      "0                          3               4.858859            7.000000   \n",
      "1                          6               6.349359            9.434783   \n",
      "2                          2               1.432432            1.800000   \n",
      "3                          0                    NaN                 NaN   \n",
      "4                          6               3.246433           10.312500   \n",
      "..                       ...                    ...                 ...   \n",
      "619                        2               0.143123            1.272727   \n",
      "620                        6               3.224728            7.907173   \n",
      "621                       10               0.334095            2.196507   \n",
      "622                        9               0.864764            4.906736   \n",
      "623                        3               0.783094            1.390244   \n",
      "\n",
      "     avg_quantity_before_restock  restock_events_count  \n",
      "0                      15.625000                    16  \n",
      "1                      27.043478                    23  \n",
      "2                       3.200000                     5  \n",
      "3                            NaN                     0  \n",
      "4                      18.750000                    32  \n",
      "..                           ...                   ...  \n",
      "619                     0.000000                    11  \n",
      "620                    15.084388                   237  \n",
      "621                     3.187773                   229  \n",
      "622                     6.678756                   193  \n",
      "623                     1.890244                    82  \n",
      "\n",
      "[624 rows x 9 columns]\n"
     ]
    }
   ],
   "execution_count": 2
  },
  {
   "metadata": {
    "ExecuteTime": {
     "end_time": "2024-06-28T16:47:06.757385Z",
     "start_time": "2024-06-28T16:47:06.743456Z"
    }
   },
   "cell_type": "code",
   "source": [
    "# enrich with store names from Enum\n",
    "from decathlon_scraper.StoresEnum import StoresNRW\n",
    "# Create a mapping dictionary from the Enum\n",
    "store_mapping = {store.value: store.name.replace(\"NRW_\", \"\") for store in StoresNRW}\n",
    "\n",
    "# Add the special case for \"All Stores\"\n",
    "store_mapping[\"All Stores\"] = \"ALL_STORES\"\n",
    "\n",
    "# Create a new column with store names\n",
    "df_combined['store_name'] = df_combined['store_storeId'].map(store_mapping)"
   ],
   "id": "d57fd45853cde354",
   "outputs": [],
   "execution_count": 3
  },
  {
   "metadata": {
    "ExecuteTime": {
     "end_time": "2024-06-28T16:47:06.772796Z",
     "start_time": "2024-06-28T16:47:06.758760Z"
    }
   },
   "cell_type": "code",
   "source": [
    "# save to csv\n",
    "df_combined.to_csv('data/combined_kpis.csv', index=False)"
   ],
   "id": "65de2b6ea94d90fc",
   "outputs": [],
   "execution_count": 4
  },
  {
   "metadata": {
    "ExecuteTime": {
     "end_time": "2024-06-28T16:47:06.788159Z",
     "start_time": "2024-06-28T16:47:06.774796Z"
    }
   },
   "cell_type": "code",
   "source": "df_combined.columns",
   "id": "e36c6c51fa9b6747",
   "outputs": [
    {
     "data": {
      "text/plain": [
       "Index(['store_storeId', 'sub_category', 'price_range', 'avg_stock_quantity',\n",
       "       'observed_variants_count', 'avg_count_per_variant',\n",
       "       'avg_restock_amount', 'avg_quantity_before_restock',\n",
       "       'restock_events_count', 'store_name'],\n",
       "      dtype='object')"
      ]
     },
     "execution_count": 5,
     "metadata": {},
     "output_type": "execute_result"
    }
   ],
   "execution_count": 5
  },
  {
   "metadata": {
    "ExecuteTime": {
     "end_time": "2024-06-28T16:47:06.804371Z",
     "start_time": "2024-06-28T16:47:06.789672Z"
    }
   },
   "cell_type": "code",
   "source": [
    "# print first 3 rows \n",
    "df_combined.head(3)"
   ],
   "id": "d3bb2768bf25970e",
   "outputs": [
    {
     "data": {
      "text/plain": [
       "   store_storeId  sub_category price_range  avg_stock_quantity  \\\n",
       "0  0070008500085  campingmobel        0-10           14.576577   \n",
       "1  0070008500085  campingmobel       10-20           38.096154   \n",
       "2  0070008500085  campingmobel     100-200            2.864865   \n",
       "\n",
       "   observed_variants_count  avg_count_per_variant  avg_restock_amount  \\\n",
       "0                        3               4.858859            7.000000   \n",
       "1                        6               6.349359            9.434783   \n",
       "2                        2               1.432432            1.800000   \n",
       "\n",
       "   avg_quantity_before_restock  restock_events_count          store_name  \n",
       "0                    15.625000                    16  DORTMUND_APLERBECK  \n",
       "1                    27.043478                    23  DORTMUND_APLERBECK  \n",
       "2                     3.200000                     5  DORTMUND_APLERBECK  "
      ],
      "text/html": [
       "<div>\n",
       "<style scoped>\n",
       "    .dataframe tbody tr th:only-of-type {\n",
       "        vertical-align: middle;\n",
       "    }\n",
       "\n",
       "    .dataframe tbody tr th {\n",
       "        vertical-align: top;\n",
       "    }\n",
       "\n",
       "    .dataframe thead th {\n",
       "        text-align: right;\n",
       "    }\n",
       "</style>\n",
       "<table border=\"1\" class=\"dataframe\">\n",
       "  <thead>\n",
       "    <tr style=\"text-align: right;\">\n",
       "      <th></th>\n",
       "      <th>store_storeId</th>\n",
       "      <th>sub_category</th>\n",
       "      <th>price_range</th>\n",
       "      <th>avg_stock_quantity</th>\n",
       "      <th>observed_variants_count</th>\n",
       "      <th>avg_count_per_variant</th>\n",
       "      <th>avg_restock_amount</th>\n",
       "      <th>avg_quantity_before_restock</th>\n",
       "      <th>restock_events_count</th>\n",
       "      <th>store_name</th>\n",
       "    </tr>\n",
       "  </thead>\n",
       "  <tbody>\n",
       "    <tr>\n",
       "      <th>0</th>\n",
       "      <td>0070008500085</td>\n",
       "      <td>campingmobel</td>\n",
       "      <td>0-10</td>\n",
       "      <td>14.576577</td>\n",
       "      <td>3</td>\n",
       "      <td>4.858859</td>\n",
       "      <td>7.000000</td>\n",
       "      <td>15.625000</td>\n",
       "      <td>16</td>\n",
       "      <td>DORTMUND_APLERBECK</td>\n",
       "    </tr>\n",
       "    <tr>\n",
       "      <th>1</th>\n",
       "      <td>0070008500085</td>\n",
       "      <td>campingmobel</td>\n",
       "      <td>10-20</td>\n",
       "      <td>38.096154</td>\n",
       "      <td>6</td>\n",
       "      <td>6.349359</td>\n",
       "      <td>9.434783</td>\n",
       "      <td>27.043478</td>\n",
       "      <td>23</td>\n",
       "      <td>DORTMUND_APLERBECK</td>\n",
       "    </tr>\n",
       "    <tr>\n",
       "      <th>2</th>\n",
       "      <td>0070008500085</td>\n",
       "      <td>campingmobel</td>\n",
       "      <td>100-200</td>\n",
       "      <td>2.864865</td>\n",
       "      <td>2</td>\n",
       "      <td>1.432432</td>\n",
       "      <td>1.800000</td>\n",
       "      <td>3.200000</td>\n",
       "      <td>5</td>\n",
       "      <td>DORTMUND_APLERBECK</td>\n",
       "    </tr>\n",
       "  </tbody>\n",
       "</table>\n",
       "</div>"
      ]
     },
     "execution_count": 6,
     "metadata": {},
     "output_type": "execute_result"
    }
   ],
   "execution_count": 6
  },
  {
   "metadata": {
    "ExecuteTime": {
     "end_time": "2024-06-28T16:47:06.820202Z",
     "start_time": "2024-06-28T16:47:06.805548Z"
    }
   },
   "cell_type": "code",
   "source": "df_combined.columns",
   "id": "b12fa6bd824157b1",
   "outputs": [
    {
     "data": {
      "text/plain": [
       "Index(['store_storeId', 'sub_category', 'price_range', 'avg_stock_quantity',\n",
       "       'observed_variants_count', 'avg_count_per_variant',\n",
       "       'avg_restock_amount', 'avg_quantity_before_restock',\n",
       "       'restock_events_count', 'store_name'],\n",
       "      dtype='object')"
      ]
     },
     "execution_count": 7,
     "metadata": {},
     "output_type": "execute_result"
    }
   ],
   "execution_count": 7
  },
  {
   "metadata": {
    "ExecuteTime": {
     "end_time": "2024-06-28T16:47:06.836199Z",
     "start_time": "2024-06-28T16:47:06.822201Z"
    }
   },
   "cell_type": "code",
   "source": "",
   "id": "debf62af0b55033d",
   "outputs": [],
   "execution_count": 7
  }
 ],
 "metadata": {
  "kernelspec": {
   "display_name": "Python 3",
   "language": "python",
   "name": "python3"
  },
  "language_info": {
   "codemirror_mode": {
    "name": "ipython",
    "version": 2
   },
   "file_extension": ".py",
   "mimetype": "text/x-python",
   "name": "python",
   "nbconvert_exporter": "python",
   "pygments_lexer": "ipython2",
   "version": "2.7.6"
  }
 },
 "nbformat": 4,
 "nbformat_minor": 5
}
