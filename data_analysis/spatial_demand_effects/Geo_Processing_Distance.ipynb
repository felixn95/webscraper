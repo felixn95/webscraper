{
 "cells": [
  {
   "cell_type": "code",
   "id": "initial_id",
   "metadata": {
    "collapsed": true,
    "ExecuteTime": {
     "end_time": "2024-05-29T16:27:57.889490Z",
     "start_time": "2024-05-29T16:27:52.151401Z"
    }
   },
   "source": [
    "from DataProcessor import DataProcessor\n",
    "from GeoDataEnricher import GeoDataEnricher\n",
    "\n",
    "# read in combined stock data\n",
    "preprocessor = DataProcessor()\n",
    "\n",
    "# create df to current date\n",
    "nrw_df = preprocessor.process_nrw_data(\"05_29\")\n"
   ],
   "execution_count": 2,
   "outputs": []
  },
  {
   "metadata": {
    "ExecuteTime": {
     "end_time": "2024-05-29T16:28:08.989002Z",
     "start_time": "2024-05-29T16:28:08.298663Z"
    }
   },
   "cell_type": "code",
   "source": [
    "# enrich with geo data\n",
    "geo_enricher = GeoDataEnricher()\n",
    "nrw_df = geo_enricher.enrich_with_coordinates(nrw_df)\n"
   ],
   "id": "613735c547d424f5",
   "execution_count": 3,
   "outputs": []
  },
  {
   "metadata": {
    "ExecuteTime": {
     "end_time": "2024-05-29T16:28:12.385500Z",
     "start_time": "2024-05-29T16:28:12.353829Z"
    }
   },
   "cell_type": "code",
   "source": "print (nrw_df.head())",
   "id": "58e9eadfca98f524",
   "execution_count": 4,
   "outputs": []
  },
  {
   "metadata": {
    "ExecuteTime": {
     "end_time": "2024-05-29T16:28:37.527523Z",
     "start_time": "2024-05-29T16:28:24.389893Z"
    }
   },
   "cell_type": "code",
   "source": "nrw_df = geo_enricher.enrich_with_all_distances(nrw_df)",
   "id": "3d49d7f478538902",
   "execution_count": 5,
   "outputs": []
  },
  {
   "metadata": {
    "ExecuteTime": {
     "end_time": "2024-05-29T16:29:24.761972Z",
     "start_time": "2024-05-29T16:29:16.237912Z"
    }
   },
   "cell_type": "code",
   "source": [
    "print (nrw_df.head())\n",
    "# save to csv\n",
    "preprocessor.save_enriched_data_as_filename(nrw_df, \"05_29_enriched_geo_data.csv\")"
   ],
   "id": "e754adf9e74a144e",
   "execution_count": 8,
   "outputs": []
  },
  {
   "metadata": {},
   "cell_type": "code",
   "source": "",
   "id": "3c81cf29e6e4bae5",
   "execution_count": null,
   "outputs": []
  }
 ],
 "metadata": {
  "kernelspec": {
   "display_name": "Python 3",
   "language": "python",
   "name": "python3"
  },
  "language_info": {
   "codemirror_mode": {
    "name": "ipython",
    "version": 2
   },
   "file_extension": ".py",
   "mimetype": "text/x-python",
   "name": "python",
   "nbconvert_exporter": "python",
   "pygments_lexer": "ipython2",
   "version": "2.7.6"
  }
 },
 "nbformat": 4,
 "nbformat_minor": 5
}
