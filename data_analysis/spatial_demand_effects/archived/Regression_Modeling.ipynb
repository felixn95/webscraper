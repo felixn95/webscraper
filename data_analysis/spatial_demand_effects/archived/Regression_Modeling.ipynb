{
 "cells": [
  {
   "cell_type": "code",
   "id": "initial_id",
   "metadata": {
    "collapsed": true,
    "ExecuteTime": {
     "end_time": "2024-05-20T22:11:14.596689Z",
     "start_time": "2024-05-20T22:11:13.460164Z"
    }
   },
   "source": "\n",
   "execution_count": 1,
   "outputs": []
  },
  {
   "metadata": {
    "ExecuteTime": {
     "end_time": "2024-05-20T18:49:01.612848Z",
     "start_time": "2024-05-20T18:49:01.604130Z"
    }
   },
   "cell_type": "code",
   "source": "# show unique values and data types\n",
   "id": "199e499a6f923a18",
   "execution_count": 2,
   "outputs": []
  }
 ],
 "metadata": {
  "kernelspec": {
   "display_name": "Python 3",
   "language": "python",
   "name": "python3"
  },
  "language_info": {
   "codemirror_mode": {
    "name": "ipython",
    "version": 2
   },
   "file_extension": ".py",
   "mimetype": "text/x-python",
   "name": "python",
   "nbconvert_exporter": "python",
   "pygments_lexer": "ipython2",
   "version": "2.7.6"
  }
 },
 "nbformat": 4,
 "nbformat_minor": 5
}
