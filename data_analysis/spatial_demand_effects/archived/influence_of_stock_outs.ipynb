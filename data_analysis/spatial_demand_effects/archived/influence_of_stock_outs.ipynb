{
 "cells": [
  {
   "cell_type": "code",
   "id": "initial_id",
   "metadata": {
    "collapsed": true,
    "ExecuteTime": {
     "end_time": "2024-06-27T12:15:48.456105Z",
     "start_time": "2024-06-27T12:15:46.814012Z"
    }
   },
   "source": [
    "import warnings\n",
    "import pandas as pd\n",
    "from data_analysis.DataProcessor import DataProcessor\n",
    "\n",
    "warnings.simplefilter(action='ignore', category=FutureWarning)\n",
    "\n",
    "# read in combined stock data\n",
    "preprocessor = DataProcessor()\n",
    "# create df to current date\n",
    "df = preprocessor.process_nrw_data(\"06_27\")\n",
    "\n",
    "# ensure timestamp is in datetime format\n",
    "df['timestamp'] = pd.to_datetime(df['timestamp'])"
   ],
   "outputs": [
    {
     "name": "stdout",
     "output_type": "stream",
     "text": [
      "File already exists: C:\\Users\\FelixNeubauer\\UniRepos\\webscraper\\data_analysis\\processed_nrw_data\\06_27_nrw_stock_data.csv. Loading DataFrame from file.\n"
     ]
    }
   ],
   "execution_count": 1
  },
  {
   "metadata": {
    "ExecuteTime": {
     "end_time": "2024-06-27T12:15:48.471504Z",
     "start_time": "2024-06-27T12:15:48.457917Z"
    }
   },
   "cell_type": "code",
   "source": [
    "# show columns\n",
    "df.columns"
   ],
   "id": "3aa615e9a4bbc8d4",
   "outputs": [
    {
     "data": {
      "text/plain": [
       "Index(['id', 'timestamp', 'main_category', 'sub_category', 'product_name',\n",
       "       'brand', 'price', 'store_skuId', 'store_storeId', 'store_storeName',\n",
       "       'store_quantity', 'store_availabilityInfo', 'store_clickNcollect1h'],\n",
       "      dtype='object')"
      ]
     },
     "execution_count": 2,
     "metadata": {},
     "output_type": "execute_result"
    }
   ],
   "execution_count": 2
  },
  {
   "metadata": {
    "ExecuteTime": {
     "end_time": "2024-06-27T12:15:48.503139Z",
     "start_time": "2024-06-27T12:15:48.473504Z"
    }
   },
   "cell_type": "code",
   "source": [
    "# show all unique values and their count of sub_category, store_storeName and availabilityInfo\n",
    "sub_category_counts = df['sub_category'].value_counts()\n",
    "store_name_counts = df['store_storeName'].value_counts()\n",
    "store_quantity_positive_count = (df['store_quantity'] > 0).sum()\n",
    "\n",
    "store_quantity_zero_count = (df['store_quantity'] == 0).sum()\n",
    "print(\"Unique values and counts for 'sub_category':\")\n",
    "print(sub_category_counts)\n",
    "print(\"\\nUnique values and counts for 'store_storeName':\")\n",
    "print(store_name_counts)\n",
    "print(\"\\nCount of entries with 'store_quantity' > 0:\", store_quantity_positive_count)\n",
    "print(\"Count of entries with 'store_quantity' = 0:\", store_quantity_zero_count)"
   ],
   "id": "c2536247355c6f1",
   "outputs": [
    {
     "name": "stdout",
     "output_type": "stream",
     "text": [
      "Unique values and counts for 'sub_category':\n",
      "sub_category\n",
      "fahrrader                       50643\n",
      "schlafsacke-matratzen-betten    24586\n",
      "fitnessgerate-fur-zuhause       23789\n",
      "campingmobel                    23252\n",
      "kochen-essen-trinken-camping    21186\n",
      "zelte                           17192\n",
      "Name: count, dtype: int64\n",
      "\n",
      "Unique values and counts for 'store_storeName':\n",
      "store_storeName\n",
      "Dortmund-Kampstrasse     13929\n",
      "Dortmund-Aplerbeck       13754\n",
      "Herne                    13742\n",
      "Wuppertal                13682\n",
      "Köln-Quincy              13663\n",
      "Essen                    13614\n",
      "Düsseldorf               13498\n",
      "Hagen                    13482\n",
      "Köln Marsdorf            13478\n",
      "Neuss                    13433\n",
      "MÜNSTER                  12771\n",
      "Hückelhoven              11602\n",
      "Name: count, dtype: Int64\n",
      "\n",
      "Count of entries with 'store_quantity' > 0: 78521\n",
      "Count of entries with 'store_quantity' = 0: 82127\n"
     ]
    }
   ],
   "execution_count": 3
  },
  {
   "metadata": {},
   "cell_type": "markdown",
   "source": [
    "## Influence of Stock Outs\n",
    "\n",
    "The goal of the analysis is to identify an influence of stock outs in neighboring stores on the demand of product variants. A product has an id and store_skuId (the skuId marks i.e. the size or color) - so just the combination makes the product unique (-> product variant). A product variant can be in several stores. So belonging to a store (store Id), just makes the product variant then unique per store. \n",
    "\n",
    "The \"state\" of the quantity of this product variant can change by time in each store (can be found out chronologically by the timestamp). \n",
    "\n",
    "A stock out event can be defined as the state of the quantity of a product variant in a store is 0, and was >0 in the measurement before. \n",
    "\n",
    "To measure an influence, it's important to only observe variants, which are sold in several stores. We set the minimum number of stores, a product variant has to be sold in, to 5. Further, we only consider product variants with at least 2 stock out events in the observation period across all stores.\n"
   ],
   "id": "ccd55aed412ffc46"
  },
  {
   "metadata": {
    "ExecuteTime": {
     "end_time": "2024-06-27T12:15:51.645415Z",
     "start_time": "2024-06-27T12:15:51.026539Z"
    }
   },
   "cell_type": "code",
   "source": [
    "# Group by id, store_skuId, and store_storeId to find the number of stores per product variant\n",
    "product_store_counts = df.groupby(['id', 'store_skuId'])['store_storeId'].nunique().reset_index()\n",
    "product_store_counts = product_store_counts[product_store_counts['store_storeId'] >= 5]\n",
    "\n",
    "# Filter the main dataframe to include only those product variants\n",
    "df_filtered = df.merge(product_store_counts[['id', 'store_skuId']], on=['id', 'store_skuId'])\n",
    "\n",
    "# Find stock out events\n",
    "df_filtered['is_stock_out'] = (df_filtered['store_quantity'] == 0) & (df_filtered['store_quantity'].shift() > 0)\n",
    "\n",
    "# Identify product variants with at least 2 stock out events in different stores\n",
    "stock_out_events = df_filtered.groupby(['id', 'store_skuId', 'store_storeId'])['is_stock_out'].max().reset_index()\n",
    "stock_out_counts = stock_out_events.groupby(['id', 'store_skuId'])['is_stock_out'].sum().reset_index()\n",
    "stock_out_counts = stock_out_counts[stock_out_counts['is_stock_out'] >= 2]\n",
    "\n",
    "# filter the dataframe to include only those variants\n",
    "df_relevant_variants  = df_filtered.merge(stock_out_counts[['id', 'store_skuId']], on=['id', 'store_skuId'])\n",
    "\n",
    "unique_product_variants = df_relevant_variants[['id', 'store_skuId']].drop_duplicates().shape[0]\n",
    "print(\"Number of unique product variants after filtering:\", unique_product_variants)"
   ],
   "id": "3f2c98c460ee9ccf",
   "outputs": [
    {
     "name": "stdout",
     "output_type": "stream",
     "text": [
      "Number of unique product variants after filtering: 250\n"
     ]
    }
   ],
   "execution_count": 4
  },
  {
   "metadata": {
    "ExecuteTime": {
     "end_time": "2024-06-27T12:18:03.630204Z",
     "start_time": "2024-06-27T12:18:03.620411Z"
    }
   },
   "cell_type": "code",
   "source": "df_relevant_variants.columns\n",
   "id": "5942dd842dbba597",
   "outputs": [
    {
     "data": {
      "text/plain": [
       "Index(['id', 'timestamp', 'main_category', 'sub_category', 'product_name',\n",
       "       'brand', 'price', 'store_skuId', 'store_storeId', 'store_storeName',\n",
       "       'store_quantity', 'store_availabilityInfo', 'store_clickNcollect1h',\n",
       "       'is_stock_out'],\n",
       "      dtype='object')"
      ]
     },
     "execution_count": 6,
     "metadata": {},
     "output_type": "execute_result"
    }
   ],
   "execution_count": 6
  },
  {
   "metadata": {},
   "cell_type": "markdown",
   "source": "### Enriching with Lag Features and Stock Out Information",
   "id": "251c7c1275b2430"
  },
  {
   "metadata": {
    "ExecuteTime": {
     "end_time": "2024-06-27T12:11:57.433408Z",
     "start_time": "2024-06-27T12:11:56.292425Z"
    }
   },
   "cell_type": "code",
   "source": [
    "\n",
    "# Add stock out information to each state of the product variant\n",
    "df_relevant_variants['is_stocked_out'] = df_relevant_variants['store_quantity'] == 0\n",
    "\n",
    "# Convert timestamp to date\n",
    "df_relevant_variants['date'] = pd.to_datetime(df_relevant_variants['timestamp']).dt.date\n",
    "\n",
    "# Sort by id, store_skuId, and date\n",
    "df_relevant_variants = df_relevant_variants.sort_values(['id', 'store_skuId', 'date'])\n",
    "\n",
    "# Generate lag features for the last 10 days\n",
    "for lag in range(1, 10):\n",
    "    df_relevant_variants[f'is_stocked_out_lag_{lag}'] = df_relevant_variants.groupby(['id', 'store_skuId', 'store_storeId'])['is_stocked_out'].shift(lag)\n",
    "\n",
    "# Define function to calculate daily stock outs and neighboring stock outs directly in the original DataFrame\n",
    "def calculate_daily_stock_outs(df):\n",
    "    # TODO \n",
    "\n",
    "# Apply the function to calculate daily stock outs and neighboring stock outs\n",
    "df_relevant_variants = calculate_daily_stock_outs(df_relevant_variants)\n",
    "\n",
    "# Reset the index for clean DataFrame\n",
    "df_relevant_variants = df_relevant_variants.reset_index(drop=True)\n",
    "\n",
    "# Display the resulting DataFrame\n",
    "print(df_relevant_variants)"
   ],
   "id": "600fd5d63266754",
   "outputs": [
    {
     "name": "stdout",
     "output_type": "stream",
     "text": [
      "               id                  timestamp main_category  \\\n",
      "0             9.0 2024-05-10 19:01:09.860541       fitness   \n",
      "1             9.0 2024-05-10 19:00:00.010907       fitness   \n",
      "2             9.0 2024-05-10 19:05:18.320112       fitness   \n",
      "3             9.0 2024-05-10 18:57:32.676129       fitness   \n",
      "4             9.0 2024-05-10 19:02:19.139821       fitness   \n",
      "...           ...                        ...           ...   \n",
      "85162  25504539.0 2024-06-26 23:50:59.610641       camping   \n",
      "85163  25504539.0 2024-06-26 23:44:35.262116       camping   \n",
      "85164  25504539.0 2024-06-26 23:57:19.542666       camping   \n",
      "85165  25504539.0 2024-06-26 23:54:16.925595       camping   \n",
      "85166  25504539.0 2024-06-26 23:51:59.178860       camping   \n",
      "\n",
      "                    sub_category  \\\n",
      "0      fitnessgerate-fur-zuhause   \n",
      "1      fitnessgerate-fur-zuhause   \n",
      "2      fitnessgerate-fur-zuhause   \n",
      "3      fitnessgerate-fur-zuhause   \n",
      "4      fitnessgerate-fur-zuhause   \n",
      "...                          ...   \n",
      "85162               campingmobel   \n",
      "85163               campingmobel   \n",
      "85164               campingmobel   \n",
      "85165               campingmobel   \n",
      "85166               campingmobel   \n",
      "\n",
      "                                            product_name            brand  \\\n",
      "0                                         T-R01 Laufband  HORIZON FITNESS   \n",
      "1                                         T-R01 Laufband  HORIZON FITNESS   \n",
      "2                                         T-R01 Laufband  HORIZON FITNESS   \n",
      "3                                         T-R01 Laufband  HORIZON FITNESS   \n",
      "4                                         T-R01 Laufband  HORIZON FITNESS   \n",
      "...                                                  ...              ...   \n",
      "85162  Campingstuhl klappbar Johnny XL Camping Stuhl ...            QEEDO   \n",
      "85163  Campingstuhl klappbar Johnny XL Camping Stuhl ...            QEEDO   \n",
      "85164  Campingstuhl klappbar Johnny XL Camping Stuhl ...            QEEDO   \n",
      "85165  Campingstuhl klappbar Johnny XL Camping Stuhl ...            QEEDO   \n",
      "85166  Campingstuhl klappbar Johnny XL Camping Stuhl ...            QEEDO   \n",
      "\n",
      "       price                           store_skuId  store_storeId  \\\n",
      "0      299.0  ef8ab573-810a-41bb-beaa-972c6e162043  0070008500085   \n",
      "1      299.0  ef8ab573-810a-41bb-beaa-972c6e162043  0070206002060   \n",
      "2      299.0  ef8ab573-810a-41bb-beaa-972c6e162043  0070157301573   \n",
      "3      299.0  ef8ab573-810a-41bb-beaa-972c6e162043  0070072800728   \n",
      "4      299.0  ef8ab573-810a-41bb-beaa-972c6e162043  0070072600726   \n",
      "...      ...                                   ...            ...   \n",
      "85162   39.9  3fd436ff-a08c-48fb-b74d-ac1c6ff6289b  0070157301573   \n",
      "85163   39.9  3fd436ff-a08c-48fb-b74d-ac1c6ff6289b  0070027300273   \n",
      "85164   39.9  3fd436ff-a08c-48fb-b74d-ac1c6ff6289b  0070106901069   \n",
      "85165   39.9  3fd436ff-a08c-48fb-b74d-ac1c6ff6289b  0070207102071   \n",
      "85166   39.9  3fd436ff-a08c-48fb-b74d-ac1c6ff6289b  0070207202072   \n",
      "\n",
      "             store_storeName  ...  is_stocked_out_lag_2  is_stocked_out_lag_3  \\\n",
      "0        Dortmund-Aplerbeck   ...                   NaN                   NaN   \n",
      "1      Dortmund-Kampstrasse   ...                   NaN                   NaN   \n",
      "2                 Düsseldorf  ...                   NaN                   NaN   \n",
      "3                      Essen  ...                   NaN                   NaN   \n",
      "4                      Hagen  ...                   NaN                   NaN   \n",
      "...                      ...  ...                   ...                   ...   \n",
      "85162             Düsseldorf  ...                  True                  True   \n",
      "85163                  Herne  ...                  True                  True   \n",
      "85164            Hückelhoven  ...                  True                  True   \n",
      "85165            Köln-Quincy  ...                  True                  True   \n",
      "85166                  Neuss  ...                  True                  True   \n",
      "\n",
      "       is_stocked_out_lag_4  is_stocked_out_lag_5  is_stocked_out_lag_6  \\\n",
      "0                       NaN                   NaN                   NaN   \n",
      "1                       NaN                   NaN                   NaN   \n",
      "2                       NaN                   NaN                   NaN   \n",
      "3                       NaN                   NaN                   NaN   \n",
      "4                       NaN                   NaN                   NaN   \n",
      "...                     ...                   ...                   ...   \n",
      "85162                  True                  True                  True   \n",
      "85163                  True                  True                  True   \n",
      "85164                  True                  True                  True   \n",
      "85165                  True                  True                  True   \n",
      "85166                  True                  True                  True   \n",
      "\n",
      "      is_stocked_out_lag_7 is_stocked_out_lag_8 is_stocked_out_lag_9  \\\n",
      "0                      NaN                  NaN                  NaN   \n",
      "1                      NaN                  NaN                  NaN   \n",
      "2                      NaN                  NaN                  NaN   \n",
      "3                      NaN                  NaN                  NaN   \n",
      "4                      NaN                  NaN                  NaN   \n",
      "...                    ...                  ...                  ...   \n",
      "85162                 True                 True                 True   \n",
      "85163                 True                 True                 True   \n",
      "85164                 True                 True                 True   \n",
      "85165                 True                 True                 True   \n",
      "85166                 True                 True                 True   \n",
      "\n",
      "      daily_stock_outs neighboring_stock_outs  \n",
      "0                   10                      9  \n",
      "1                   10                      9  \n",
      "2                   10                      9  \n",
      "3                   10                      9  \n",
      "4                   10                      9  \n",
      "...                ...                    ...  \n",
      "85162                7                      6  \n",
      "85163                7                      6  \n",
      "85164                7                      6  \n",
      "85165                7                      6  \n",
      "85166                7                      6  \n",
      "\n",
      "[85167 rows x 27 columns]\n"
     ]
    }
   ],
   "execution_count": 5
  }
 ],
 "metadata": {
  "kernelspec": {
   "display_name": "Python 3",
   "language": "python",
   "name": "python3"
  },
  "language_info": {
   "codemirror_mode": {
    "name": "ipython",
    "version": 2
   },
   "file_extension": ".py",
   "mimetype": "text/x-python",
   "name": "python",
   "nbconvert_exporter": "python",
   "pygments_lexer": "ipython2",
   "version": "2.7.6"
  }
 },
 "nbformat": 4,
 "nbformat_minor": 5
}
