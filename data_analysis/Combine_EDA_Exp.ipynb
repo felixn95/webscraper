{
 "cells": [
  {
   "metadata": {},
   "cell_type": "markdown",
   "source": "",
   "id": "8c4bb82f76cb2d47"
  },
  {
   "metadata": {
    "ExecuteTime": {
     "end_time": "2024-06-09T17:27:51.887425Z",
     "start_time": "2024-06-09T17:27:49.735856Z"
    }
   },
   "cell_type": "code",
   "source": [
    "# read current combined data\n",
    "import pandas as pd\n",
    "df = pd.read_csv('combined_stock_data.csv')\n",
    "# print length of data\n",
    "print(len(df))"
   ],
   "id": "26e6aa0b2c49d6ca",
   "outputs": [
    {
     "name": "stdout",
     "output_type": "stream",
     "text": [
      "106170\n"
     ]
    }
   ],
   "execution_count": 1
  },
  {
   "metadata": {
    "ExecuteTime": {
     "end_time": "2024-06-09T17:28:54.819010Z",
     "start_time": "2024-06-09T17:27:57.583531Z"
    }
   },
   "cell_type": "code",
   "source": [
    "from StockDataCombiner import StockDataCombiner\n",
    "\n",
    "combiner = StockDataCombiner('../decathlon_scraper/data/sportgear/stocks')\n",
    "combined_df = combiner.combine_csv_files()\n",
    "#print(combined_df.head())  # Display the first few rows of the combined DataFrame\n",
    "combiner.save_combined_data('combined_stock_data.csv')"
   ],
   "id": "daecdcdf02690275",
   "outputs": [
    {
     "name": "stdout",
     "output_type": "stream",
     "text": [
      "Data combined successfully\n",
      "Data combined successfully\n",
      "Combined data saved to combined_stock_data.csv\n"
     ]
    }
   ],
   "execution_count": 2
  },
  {
   "metadata": {
    "ExecuteTime": {
     "end_time": "2024-06-09T17:29:02.191770Z",
     "start_time": "2024-06-09T17:29:01.304622Z"
    }
   },
   "cell_type": "code",
   "source": [
    "# read new combined data\n",
    "new_combined_df = pd.read_csv('combined_stock_data.csv')\n",
    "print (len(new_combined_df))"
   ],
   "id": "8b03ce17b26addba",
   "outputs": [
    {
     "name": "stdout",
     "output_type": "stream",
     "text": [
      "114438\n"
     ]
    }
   ],
   "execution_count": 3
  },
  {
   "metadata": {},
   "cell_type": "code",
   "outputs": [],
   "execution_count": null,
   "source": "",
   "id": "2a8fa3763ffe181f"
  }
 ],
 "metadata": {
  "kernelspec": {
   "display_name": "Python 3",
   "language": "python",
   "name": "python3"
  },
  "language_info": {
   "codemirror_mode": {
    "name": "ipython",
    "version": 2
   },
   "file_extension": ".py",
   "mimetype": "text/x-python",
   "name": "python",
   "nbconvert_exporter": "python",
   "pygments_lexer": "ipython2",
   "version": "2.7.6"
  }
 },
 "nbformat": 4,
 "nbformat_minor": 5
}
