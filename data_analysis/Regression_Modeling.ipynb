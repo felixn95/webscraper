{
 "cells": [
  {
   "cell_type": "code",
   "id": "initial_id",
   "metadata": {
    "collapsed": true,
    "ExecuteTime": {
     "end_time": "2024-05-20T22:11:14.596689Z",
     "start_time": "2024-05-20T22:11:13.460164Z"
    }
   },
   "source": [
    "import pandas as pd\n",
    "from DataProcessor import DataProcessor\n",
    "\n",
    "# Load your CSV file\n",
    "processor = DataProcessor()\n",
    "df = processor.read_and_process_from_path_with_geo_data('processed_nrw_data/05_20_enriched_nrw_stock_data.csv')\n",
    "\n",
    "\n",
    "# Print one example row\n",
    "print(\"Example Row:\")\n",
    "print(df.iloc[0])\n",
    "\n",
    "# Print data types of each column\n",
    "print(\"\\nData Types:\")\n",
    "print(df.dtypes)\n"
   ],
   "execution_count": 1,
   "outputs": []
  },
  {
   "metadata": {
    "ExecuteTime": {
     "end_time": "2024-05-20T18:49:01.612848Z",
     "start_time": "2024-05-20T18:49:01.604130Z"
    }
   },
   "cell_type": "code",
   "source": "# show unique values and data types\n",
   "id": "199e499a6f923a18",
   "execution_count": 2,
   "outputs": []
  }
 ],
 "metadata": {
  "kernelspec": {
   "display_name": "Python 3",
   "language": "python",
   "name": "python3"
  },
  "language_info": {
   "codemirror_mode": {
    "name": "ipython",
    "version": 2
   },
   "file_extension": ".py",
   "mimetype": "text/x-python",
   "name": "python",
   "nbconvert_exporter": "python",
   "pygments_lexer": "ipython2",
   "version": "2.7.6"
  }
 },
 "nbformat": 4,
 "nbformat_minor": 5
}
