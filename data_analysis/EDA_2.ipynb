{
 "cells": [
  {
   "cell_type": "code",
   "id": "initial_id",
   "metadata": {
    "collapsed": true,
    "ExecuteTime": {
     "end_time": "2024-05-16T08:03:52.714945Z",
     "start_time": "2024-05-16T08:03:51.186494Z"
    }
   },
   "source": [
    "import pandas as pd\n",
    "from PreprocessingUtils import Preprocessor\n",
    "from FilteringUtils import FilteringUtils\n",
    "\n",
    "# read in combine stock data\n",
    "\n",
    "df = pd.read_csv('combined_stock_data.csv')\n",
    "\n",
    "# preprocess\n",
    "preprocessor = Preprocessor()\n",
    "\n",
    "df = preprocessor.preprocess(df)\n",
    "\n",
    "preprocessor.save_preprocessed_data(df, 'processed_stock_data.csv')\n",
    "\n",
    "filter_manager = FilteringUtils()\n",
    "nrw_df = filter_manager.filter_nrw_stores(df)\n",
    "# save to csv\n",
    "preprocessor.save_preprocessed_data(nrw_df, 'nrw_stock_data_05_16.csv')\n"
   ],
   "outputs": [
    {
     "name": "stdout",
     "output_type": "stream",
     "text": [
      "Preprocessed data saved to processed_stock_data.csv\n",
      "Preprocessed data saved to nrw_stock_data_05_16.csv\n"
     ]
    }
   ],
   "execution_count": 4
  },
  {
   "metadata": {
    "ExecuteTime": {
     "end_time": "2024-05-16T08:03:27.775622Z",
     "start_time": "2024-05-16T08:03:27.132229Z"
    }
   },
   "cell_type": "code",
   "source": [
    "# read in nrw stock data\n",
    "nrw_df = pd.read_csv('nrw_stock_data_05_16.csv')\n",
    "\n",
    "# sort chronologically by timestamp\n",
    "nrw_df = nrw_df.sort_values(by='timestamp')"
   ],
   "id": "613735c547d424f5",
   "outputs": [
    {
     "ename": "NameError",
     "evalue": "name 'FilteringUtils' is not defined",
     "output_type": "error",
     "traceback": [
      "\u001B[1;31m---------------------------------------------------------------------------\u001B[0m",
      "\u001B[1;31mNameError\u001B[0m                                 Traceback (most recent call last)",
      "Cell \u001B[1;32mIn[2], line 1\u001B[0m\n\u001B[1;32m----> 1\u001B[0m filter_manager \u001B[38;5;241m=\u001B[39m \u001B[43mFilteringUtils\u001B[49m()\n\u001B[0;32m      2\u001B[0m nrw_df \u001B[38;5;241m=\u001B[39m filter_manager\u001B[38;5;241m.\u001B[39mfilter_nrw_stores(df)\n\u001B[0;32m      3\u001B[0m \u001B[38;5;66;03m# save to csv\u001B[39;00m\n",
      "\u001B[1;31mNameError\u001B[0m: name 'FilteringUtils' is not defined"
     ]
    }
   ],
   "execution_count": 2
  },
  {
   "metadata": {},
   "cell_type": "code",
   "outputs": [],
   "execution_count": null,
   "source": "",
   "id": "58e9eadfca98f524"
  }
 ],
 "metadata": {
  "kernelspec": {
   "display_name": "Python 3",
   "language": "python",
   "name": "python3"
  },
  "language_info": {
   "codemirror_mode": {
    "name": "ipython",
    "version": 2
   },
   "file_extension": ".py",
   "mimetype": "text/x-python",
   "name": "python",
   "nbconvert_exporter": "python",
   "pygments_lexer": "ipython2",
   "version": "2.7.6"
  }
 },
 "nbformat": 4,
 "nbformat_minor": 5
}
